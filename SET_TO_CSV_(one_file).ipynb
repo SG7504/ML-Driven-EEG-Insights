{
  "nbformat": 4,
  "nbformat_minor": 0,
  "metadata": {
    "colab": {
      "provenance": [],
      "authorship_tag": "ABX9TyNOfznckWz0Gl3N+c3LzL54",
      "include_colab_link": true
    },
    "kernelspec": {
      "name": "python3",
      "display_name": "Python 3"
    },
    "language_info": {
      "name": "python"
    }
  },
  "cells": [
    {
      "cell_type": "markdown",
      "metadata": {
        "id": "view-in-github",
        "colab_type": "text"
      },
      "source": [
        "<a href=\"https://colab.research.google.com/github/SG7504/ML-Driven-EEG-Insights/blob/main/SET_TO_CSV_(one_file).ipynb\" target=\"_parent\"><img src=\"https://colab.research.google.com/assets/colab-badge.svg\" alt=\"Open In Colab\"/></a>"
      ]
    },
    {
      "cell_type": "code",
      "execution_count": null,
      "metadata": {
        "id": "Dx5jQaNfhQVW",
        "colab": {
          "base_uri": "https://localhost:8080/"
        },
        "outputId": "5071c8df-ec0b-4427-8e95-dd846fa48667"
      },
      "outputs": [
        {
          "output_type": "stream",
          "name": "stdout",
          "text": [
            "Drive already mounted at /content/drive; to attempt to forcibly remount, call drive.mount(\"/content/drive\", force_remount=True).\n",
            "Requirement already satisfied: mne in /usr/local/lib/python3.11/dist-packages (1.9.0)\n",
            "Requirement already satisfied: decorator in /usr/local/lib/python3.11/dist-packages (from mne) (4.4.2)\n",
            "Requirement already satisfied: jinja2 in /usr/local/lib/python3.11/dist-packages (from mne) (3.1.5)\n",
            "Requirement already satisfied: lazy-loader>=0.3 in /usr/local/lib/python3.11/dist-packages (from mne) (0.4)\n",
            "Requirement already satisfied: matplotlib>=3.6 in /usr/local/lib/python3.11/dist-packages (from mne) (3.10.0)\n",
            "Requirement already satisfied: numpy<3,>=1.23 in /usr/local/lib/python3.11/dist-packages (from mne) (1.26.4)\n",
            "Requirement already satisfied: packaging in /usr/local/lib/python3.11/dist-packages (from mne) (24.2)\n",
            "Requirement already satisfied: pooch>=1.5 in /usr/local/lib/python3.11/dist-packages (from mne) (1.8.2)\n",
            "Requirement already satisfied: scipy>=1.9 in /usr/local/lib/python3.11/dist-packages (from mne) (1.13.1)\n",
            "Requirement already satisfied: tqdm in /usr/local/lib/python3.11/dist-packages (from mne) (4.67.1)\n",
            "Requirement already satisfied: contourpy>=1.0.1 in /usr/local/lib/python3.11/dist-packages (from matplotlib>=3.6->mne) (1.3.1)\n",
            "Requirement already satisfied: cycler>=0.10 in /usr/local/lib/python3.11/dist-packages (from matplotlib>=3.6->mne) (0.12.1)\n",
            "Requirement already satisfied: fonttools>=4.22.0 in /usr/local/lib/python3.11/dist-packages (from matplotlib>=3.6->mne) (4.55.8)\n",
            "Requirement already satisfied: kiwisolver>=1.3.1 in /usr/local/lib/python3.11/dist-packages (from matplotlib>=3.6->mne) (1.4.8)\n",
            "Requirement already satisfied: pillow>=8 in /usr/local/lib/python3.11/dist-packages (from matplotlib>=3.6->mne) (11.1.0)\n",
            "Requirement already satisfied: pyparsing>=2.3.1 in /usr/local/lib/python3.11/dist-packages (from matplotlib>=3.6->mne) (3.2.1)\n",
            "Requirement already satisfied: python-dateutil>=2.7 in /usr/local/lib/python3.11/dist-packages (from matplotlib>=3.6->mne) (2.8.2)\n",
            "Requirement already satisfied: platformdirs>=2.5.0 in /usr/local/lib/python3.11/dist-packages (from pooch>=1.5->mne) (4.3.6)\n",
            "Requirement already satisfied: requests>=2.19.0 in /usr/local/lib/python3.11/dist-packages (from pooch>=1.5->mne) (2.32.3)\n",
            "Requirement already satisfied: MarkupSafe>=2.0 in /usr/local/lib/python3.11/dist-packages (from jinja2->mne) (3.0.2)\n",
            "Requirement already satisfied: six>=1.5 in /usr/local/lib/python3.11/dist-packages (from python-dateutil>=2.7->matplotlib>=3.6->mne) (1.17.0)\n",
            "Requirement already satisfied: charset-normalizer<4,>=2 in /usr/local/lib/python3.11/dist-packages (from requests>=2.19.0->pooch>=1.5->mne) (3.4.1)\n",
            "Requirement already satisfied: idna<4,>=2.5 in /usr/local/lib/python3.11/dist-packages (from requests>=2.19.0->pooch>=1.5->mne) (3.10)\n",
            "Requirement already satisfied: urllib3<3,>=1.21.1 in /usr/local/lib/python3.11/dist-packages (from requests>=2.19.0->pooch>=1.5->mne) (2.3.0)\n",
            "Requirement already satisfied: certifi>=2017.4.17 in /usr/local/lib/python3.11/dist-packages (from requests>=2.19.0->pooch>=1.5->mne) (2025.1.31)\n",
            "Processing sub-031_task-eyesclosed_eeg...\n",
            "Saved CSV for sub-031_task-eyesclosed_eeg to /content/drive/My Drive/EEG/SET/RAW/output(CSV)/sub-031_task-eyesclosed_eeg.csv\n"
          ]
        }
      ],
      "source": [
        "from google.colab import drive\n",
        "drive.mount('/content/drive')\n",
        "\n",
        "# Install MNE library for EEG data processing\n",
        "!pip install mne\n",
        "\n",
        "import mne\n",
        "import pandas as pd\n",
        "import os\n",
        "\n",
        "# Define input and output directories\n",
        "input_dir = '/content/drive/My Drive/EEG/SET/RAW/input(SET)/'\n",
        "output_dir = '/content/drive/My Drive/EEG/SET/RAW/output(CSV)/'\n",
        "\n",
        "# Specify the file you want to process\n",
        "file_name = 'sub-031_task-eyesclosed_eeg.set'  # Change this to process another file\n",
        "file_path = os.path.join(input_dir, file_name)\n",
        "\n",
        "# Get the base name (e.g., sub-001_task-eyesclosed_eeg)\n",
        "base_name = os.path.splitext(file_name)[0]\n",
        "output_file = os.path.join(output_dir, f'{base_name}.csv')\n",
        "\n",
        "# Check if CSV already exists\n",
        "if os.path.exists(output_file):\n",
        "    print(f\"CSV for {base_name} already exists. Skipping...\")\n",
        "else:\n",
        "    # Load the .set file\n",
        "    print(f\"Processing {base_name}...\")\n",
        "    raw = mne.io.read_raw_eeglab(file_path, preload=True)\n",
        "\n",
        "    # Extract data, channels, and times\n",
        "    data = raw.get_data()\n",
        "    channels = raw.ch_names\n",
        "    times = raw.times\n",
        "\n",
        "    # Create DataFrame and add time\n",
        "    df = pd.DataFrame(data.T, columns=channels)\n",
        "    df.insert(0, 'Time', times)\n",
        "\n",
        "    # Save to CSV\n",
        "    df.to_csv(output_file, index=False)\n",
        "    print(f\"Saved CSV for {base_name} to {output_file}\")\n"
      ]
    }
  ]
}